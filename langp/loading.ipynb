{
 "cells": [
  {
   "cell_type": "code",
   "execution_count": null,
   "id": "c43d1384",
   "metadata": {},
   "outputs": [
    {
     "name": "stderr",
     "output_type": "stream",
     "text": [
      "d:\\langchain2\\venv\\Lib\\site-packages\\tqdm\\auto.py:21: TqdmWarning: IProgress not found. Please update jupyter and ipywidgets. See https://ipywidgets.readthedocs.io/en/stable/user_install.html\n",
      "  from .autonotebook import tqdm as notebook_tqdm\n"
     ]
    }
   ],
   "source": [
    "import requests\n",
    "import feedparser\n",
    "from urllib.parse import quote\n",
    "from pypdf import PdfReader\n",
    "from langchain_text_splitters import RecursiveCharacterTextSplitter\n",
    "from langchain_huggingface import HuggingFaceEmbeddings\n",
    "from langchain_community.vectorstores import FAISS\n",
    "from langchain.schema import Document\n",
    "import os\n",
    "\n"
   ]
  },
  {
   "cell_type": "code",
   "execution_count": null,
   "id": "8dc9f9bd",
   "metadata": {},
   "outputs": [],
   "source": [
    "def fetch_arxiv_papers(query, max_results=3):\n",
    "    base_url = \"http://export.arxiv.org/api/query?\"\n",
    "    encoded_query = quote(query)\n",
    "    search_query = (\n",
    "        f\"search_query=all:{encoded_query}&start=0&max_results={max_results}\"\n",
    "        \"&sortBy=submittedDate&sortOrder=descending\"\n",
    "    )\n",
    "    feed = feedparser.parse(base_url + search_query)\n",
    "\n",
    "    papers = []\n",
    "    for entry in feed.entries:\n",
    "        paper = {\n",
    "            \"title\": entry.title,\n",
    "            \"authors\": [author.name for author in entry.authors],\n",
    "            \"summary\": entry.summary,\n",
    "            \"pdf_url\": entry.id.replace(\"abs\", \"pdf\") + \".pdf\",\n",
    "        }\n",
    "        papers.append(paper)\n",
    "    return papers\n"
   ]
  },
  {
   "cell_type": "code",
   "execution_count": null,
   "id": "f4b5eacd",
   "metadata": {},
   "outputs": [],
   "source": [
    "def download_paper(output_path, url):\n",
    "    response = requests.get(url)\n",
    "    if response.status_code == 200:\n",
    "        with open(output_path, \"wb\") as f:\n",
    "            f.write(response.content)\n",
    "        print(f\" Downloaded: {output_path}\")\n",
    "    else:\n",
    "        print(\" Failed to download PDF.\")"
   ]
  },
  {
   "cell_type": "code",
   "execution_count": 4,
   "id": "5c2e8f46",
   "metadata": {},
   "outputs": [],
   "source": [
    "def read_pdf(save_path):\n",
    "    reader = PdfReader(save_path)\n",
    "    text = \"\"\n",
    "    for page in reader.pages:\n",
    "        text += page.extract_text() or \"\"\n",
    "    return text\n",
    "\n"
   ]
  },
  {
   "cell_type": "code",
   "execution_count": 5,
   "id": "22174bc5",
   "metadata": {},
   "outputs": [],
   "source": [
    "def chunk_text(text, chunk_size=600, chunk_overlap=100):\n",
    "    splitter = RecursiveCharacterTextSplitter(\n",
    "        chunk_size=chunk_size,\n",
    "        chunk_overlap=chunk_overlap,\n",
    "        separators=[\"\\n\\n\", \"\\n\", \".\", \" \"],\n",
    "    )\n",
    "    chunks = splitter.split_text(text)\n",
    "    return chunks"
   ]
  },
  {
   "cell_type": "code",
   "execution_count": 6,
   "id": "bfe6ee15",
   "metadata": {},
   "outputs": [],
   "source": [
    "embeddings = HuggingFaceEmbeddings(model_name=\"all-MiniLM-L6-v2\")\n"
   ]
  },
  {
   "cell_type": "code",
   "execution_count": 7,
   "id": "94909fd2",
   "metadata": {},
   "outputs": [],
   "source": [
    "def store_in_faiss(chunks, metadatas=None, save_path=\"faiss_index\"):\n",
    "    docs = [\n",
    "        Document(page_content=chunk, metadata=meta or {})\n",
    "        for chunk, meta in zip(chunks, metadatas or [{}] * len(chunks))\n",
    "    ]\n",
    "\n",
    "    vectorstore = FAISS.from_documents(docs, embeddings)\n",
    "    os.makedirs(save_path, exist_ok=True)\n",
    "    vectorstore.save_local(save_path)\n",
    "    print(f\"✅ FAISS index saved successfully at: {save_path}\")\n",
    "    return vectorstore\n"
   ]
  },
  {
   "cell_type": "code",
   "execution_count": 8,
   "id": "7a8eb5f9",
   "metadata": {},
   "outputs": [
    {
     "name": "stdout",
     "output_type": "stream",
     "text": [
      "📄 Paper Title: From nuclear star clusters to Little Red Dots: black hole growth,\n",
      "  mergers, and tidal disruptions\n"
     ]
    }
   ],
   "source": [
    "papers = fetch_arxiv_papers(\"large language models\", max_results=1)\n",
    "first_paper = papers[0]\n",
    "print(\"📄 Paper Title:\", first_paper[\"title\"])"
   ]
  },
  {
   "cell_type": "code",
   "execution_count": 9,
   "id": "276340c3",
   "metadata": {},
   "outputs": [
    {
     "name": "stdout",
     "output_type": "stream",
     "text": [
      "✅ Downloaded: paper.pdf\n",
      "✅ FAISS index saved successfully at: faiss_index\n",
      "✅ FAISS index created, saved, and reloaded successfully!\n",
      "Files in faiss_index: ['index.faiss', 'index.pkl']\n"
     ]
    }
   ],
   "source": [
    "pdf_path = \"paper.pdf\"\n",
    "download_paper(pdf_path, first_paper[\"pdf_url\"])\n",
    "\n",
    "# Read and chunk the paper\n",
    "text = read_pdf(pdf_path)\n",
    "chunks = chunk_text(text)\n",
    "\n",
    "# Create FAISS index\n",
    "vectorstore = store_in_faiss(chunks, save_path=\"faiss_index\")\n",
    "\n",
    "# Test loading\n",
    "vectorstore = FAISS.load_local(\n",
    "    \"faiss_index\", embeddings, allow_dangerous_deserialization=True\n",
    ")\n",
    "print(\"✅ FAISS index created, saved, and reloaded successfully!\")\n",
    "print(\"Files in faiss_index:\", os.listdir(\"faiss_index\"))\n"
   ]
  }
 ],
 "metadata": {
  "kernelspec": {
   "display_name": "venv",
   "language": "python",
   "name": "python3"
  },
  "language_info": {
   "codemirror_mode": {
    "name": "ipython",
    "version": 3
   },
   "file_extension": ".py",
   "mimetype": "text/x-python",
   "name": "python",
   "nbconvert_exporter": "python",
   "pygments_lexer": "ipython3",
   "version": "3.13.2"
  }
 },
 "nbformat": 4,
 "nbformat_minor": 5
}
